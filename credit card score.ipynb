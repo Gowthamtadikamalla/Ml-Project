{
 "cells": [
  {
   "cell_type": "code",
   "execution_count": 1,
   "id": "e7da4f57",
   "metadata": {},
   "outputs": [],
   "source": [
    "#authors: \n",
    "#objective: \n",
    "#input: \n",
    "#output:\n",
    "import pandas as pd #data analysis toolkit\n",
    "import matplotlib.pyplot as plt # for plotting graphs\n",
    "import numpy as np # for high level computations\n",
    "%matplotlib inline"
   ]
  },
  {
   "cell_type": "code",
   "execution_count": 2,
   "id": "65544b80",
   "metadata": {},
   "outputs": [],
   "source": [
    "from sklearn.preprocessing import StandardScaler # standardization of values\n",
    "from sklearn.preprocessing import MinMaxScaler # Normalization of values\n",
    "from sklearn.model_selection import train_test_split # to split data\n",
    "from sklearn.neighbors import KNeighborsClassifier #KNN classifier\n",
    "from sklearn.metrics import confusion_matrix,accuracy_score # to get confusion matrix and accuracy\n",
    "from sklearn.model_selection import cross_val_score # to perform evaluation and cross-validation"
   ]
  },
  {
   "cell_type": "code",
   "execution_count": 3,
   "id": "19b67bff",
   "metadata": {},
   "outputs": [],
   "source": [
    "data_set = pd.read_csv(\"train5.csv\") # dataset_input"
   ]
  },
  {
   "cell_type": "code",
   "execution_count": 4,
   "id": "0742472c",
   "metadata": {
    "scrolled": true
   },
   "outputs": [],
   "source": [
    "data_set = np.round(data_set, decimals=2) # rouding all values in dataset to 2 decimal places\n",
    "data_co=data_set.head(5000) # first 5 values in dataset"
   ]
  },
  {
   "cell_type": "code",
   "execution_count": 5,
   "id": "f8d89f9a",
   "metadata": {},
   "outputs": [],
   "source": [
    "dset_modified=data_co.drop('Credit_Score',axis=1)"
   ]
  },
  {
   "cell_type": "code",
   "execution_count": 6,
   "id": "c7be1feb",
   "metadata": {},
   "outputs": [],
   "source": [
    "data_set_feat = pd.DataFrame(dset_modified, columns=data_co.columns[:-1])"
   ]
  },
  {
   "cell_type": "code",
   "execution_count": 7,
   "id": "ed0bf08d",
   "metadata": {},
   "outputs": [],
   "source": [
    "data_set_feat = np. round(data_set_feat, decimals=2)"
   ]
  },
  {
   "cell_type": "code",
   "execution_count": 8,
   "id": "b1b7499e",
   "metadata": {},
   "outputs": [],
   "source": [
    "one_train, one_test, two_train, two_test = train_test_split(data_co,data_co['Credit_Score'],test_size=0.30)\n",
    "# test_train split with test size =30% and train size =70%"
   ]
  },
  {
   "cell_type": "code",
   "execution_count": 10,
   "id": "117c4d1c",
   "metadata": {},
   "outputs": [],
   "source": [
    "# Computation of accuracy rates for various neighbour values\n",
    "Accurate_rates = []\n",
    "for i in range(1,40):\n",
    "    k_nearest_neighbour = KNeighborsClassifier(n_neighbors=i)\n",
    "    final_score=cross_val_score(k_nearest_neighbour, data_set_feat,data_co['Credit_Score'],cv=5)\n",
    "    Accurate_rates.append(final_score.mean())"
   ]
  },
  {
   "cell_type": "code",
   "execution_count": 11,
   "id": "f07a32c2",
   "metadata": {},
   "outputs": [
    {
     "data": {
      "text/plain": [
       "Text(0, 0.5, 'Accuracy Rate')"
      ]
     },
     "execution_count": 11,
     "metadata": {},
     "output_type": "execute_result"
    },
    {
     "data": {
      "image/png": "[encoded data removed]",
      "text/plain": [
       "<Figure size 720x432 with 1 Axes>"
      ]
     },
     "metadata": {
      "needs_background": "light"
     },
     "output_type": "display_data"
    }
   ],
   "source": [
    "plt.figure(figsize=(10,6))\n",
    "plt.plot(range(1,40),Accurate_rates, color='blue', linestyle='dashed', marker='o',markerfacecolor='red', markersize=10)\n",
    "plt.title('Accuracy Rate vs. K Value')\n",
    "plt.xlabel('K')\n",
    "plt.ylabel( 'Accuracy Rate')"
   ]
  },
  {
   "cell_type": "code",
   "execution_count": 12,
   "id": "a3f0458e",
   "metadata": {},
   "outputs": [
    {
     "name": "stdout",
     "output_type": "stream",
     "text": [
      "For K= 34\n",
      "Confusion matrix:\n",
      "\n",
      "\n",
      "[[176 282   6]\n",
      " [113 617  24]\n",
      " [ 28 198  56]]\n",
      "\n",
      "\n",
      "Accuracy rate:  56.99999999999999 %\n"
     ]
    }
   ],
   "source": [
    "# Best case identifier\n",
    "max_index = Accurate_rates.index(max(Accurate_rates)) \n",
    "k_nearest_neighbour = KNeighborsClassifier(n_neighbors=(max_index+1))\n",
    "k_nearest_neighbour.fit(one_train,two_train)\n",
    "prediction = k_nearest_neighbour.predict(one_test)\n",
    "print('For K=',max_index)\n",
    "print('Confusion matrix:')\n",
    "print('\\n')\n",
    "print(confusion_matrix(two_test,prediction)) # Confusion Matrix\n",
    "print('\\n')\n",
    "print('Accuracy rate: ',round(accuracy_score(two_test,prediction),2)*100,'%')\n",
    "#Accuracy rate"
   ]
  },
  {
   "cell_type": "code",
   "execution_count": 13,
   "id": "a9100b84",
   "metadata": {},
   "outputs": [
    {
     "name": "stdout",
     "output_type": "stream",
     "text": [
      "For K= 30\n",
      "Confusion matrix:\n",
      "\n",
      "\n",
      "[[197 258   9]\n",
      " [121 598  35]\n",
      " [ 30 189  63]]\n",
      "\n",
      "\n",
      "Accuracy rate: 56.99999999999999 %\n"
     ]
    }
   ],
   "source": [
    "t = 30 # Random K value\n",
    "\n",
    "k_nearest_neighbour = KNeighborsClassifier(n_neighbors=t)\n",
    "k_nearest_neighbour. fit(one_train, two_train)\n",
    "prediction = k_nearest_neighbour.predict(one_test)\n",
    "\n",
    "print('For K=',t)\n",
    "\n",
    "print('Confusion matrix:')\n",
    "\n",
    "print('\\n')\n",
    "\n",
    "print (confusion_matrix(two_test, prediction) )\n",
    "print('\\n')\n",
    "print('Accuracy rate:',round(accuracy_score(two_test,prediction),2)*100,'%')\n"
   ]
  },
  {
   "cell_type": "code",
   "execution_count": 14,
   "id": "41cda9fe",
   "metadata": {},
   "outputs": [],
   "source": [
    "scaled = MinMaxScaler()"
   ]
  },
  {
   "cell_type": "code",
   "execution_count": 16,
   "id": "2f69d5c8",
   "metadata": {},
   "outputs": [
    {
     "data": {
      "text/plain": [
       "MinMaxScaler()"
      ]
     },
     "execution_count": 16,
     "metadata": {},
     "output_type": "execute_result"
    }
   ],
   "source": [
    "scaled. fit(data_co.drop('Credit_Score',axis=1))"
   ]
  },
  {
   "cell_type": "code",
   "execution_count": 17,
   "id": "5a7181ce",
   "metadata": {},
   "outputs": [],
   "source": [
    "dset_modified=scaled. transform(data_co.drop('Credit_Score',axis=1)) #dropping class—feature"
   ]
  },
  {
   "cell_type": "code",
   "execution_count": 18,
   "id": "33a7831a",
   "metadata": {},
   "outputs": [],
   "source": [
    "data_set_feat = pd.DataFrame(dset_modified, columns=data_co.columns[:-1])"
   ]
  },
  {
   "cell_type": "code",
   "execution_count": 19,
   "id": "254bf087",
   "metadata": {},
   "outputs": [
    {
     "data": {
      "text/html": [
       "<div>\n",
       "<style scoped>\n",
       "    .dataframe tbody tr th:only-of-type {\n",
       "        vertical-align: middle;\n",
       "    }\n",
       "\n",
       "    .dataframe tbody tr th {\n",
       "        vertical-align: top;\n",
       "    }\n",
       "\n",
       "    .dataframe thead th {\n",
       "        text-align: right;\n",
       "    }\n",
       "</style>\n",
       "<table border=\"1\" class=\"dataframe\">\n",
       "  <thead>\n",
       "    <tr style=\"text-align: right;\">\n",
       "      <th></th>\n",
       "      <th>Unnamed: 0</th>\n",
       "      <th>Month</th>\n",
       "      <th>Age</th>\n",
       "      <th>Occupation</th>\n",
       "      <th>Annual_Income</th>\n",
       "      <th>Monthly_Inhand_Salary</th>\n",
       "      <th>Num_Bank_Accounts</th>\n",
       "      <th>Num_Credit_Card</th>\n",
       "      <th>Interest_Rate</th>\n",
       "      <th>Num_of_Loan</th>\n",
       "      <th>...</th>\n",
       "      <th>Num_Credit_Inquiries</th>\n",
       "      <th>Credit_Mix</th>\n",
       "      <th>Outstanding_Debt</th>\n",
       "      <th>Credit_Utilization_Ratio</th>\n",
       "      <th>Credit_History_Age</th>\n",
       "      <th>Payment_of_Min_Amount</th>\n",
       "      <th>Total_EMI_per_month</th>\n",
       "      <th>Amount_invested_monthly</th>\n",
       "      <th>Payment_Behaviour</th>\n",
       "      <th>Monthly_Balance</th>\n",
       "    </tr>\n",
       "  </thead>\n",
       "  <tbody>\n",
       "    <tr>\n",
       "      <th>0</th>\n",
       "      <td>0.0</td>\n",
       "      <td>0.29</td>\n",
       "      <td>0.13</td>\n",
       "      <td>0.87</td>\n",
       "      <td>0.0</td>\n",
       "      <td>0.27</td>\n",
       "      <td>0.03</td>\n",
       "      <td>0.04</td>\n",
       "      <td>0.03</td>\n",
       "      <td>0.08</td>\n",
       "      <td>...</td>\n",
       "      <td>0.0</td>\n",
       "      <td>0.5</td>\n",
       "      <td>0.16</td>\n",
       "      <td>0.45</td>\n",
       "      <td>0.00</td>\n",
       "      <td>0.5</td>\n",
       "      <td>0.0</td>\n",
       "      <td>0.01</td>\n",
       "      <td>0.50</td>\n",
       "      <td>0.19</td>\n",
       "    </tr>\n",
       "    <tr>\n",
       "      <th>1</th>\n",
       "      <td>0.0</td>\n",
       "      <td>0.86</td>\n",
       "      <td>0.43</td>\n",
       "      <td>0.87</td>\n",
       "      <td>0.0</td>\n",
       "      <td>0.27</td>\n",
       "      <td>0.03</td>\n",
       "      <td>0.04</td>\n",
       "      <td>0.03</td>\n",
       "      <td>0.08</td>\n",
       "      <td>...</td>\n",
       "      <td>0.0</td>\n",
       "      <td>0.5</td>\n",
       "      <td>0.16</td>\n",
       "      <td>0.32</td>\n",
       "      <td>0.66</td>\n",
       "      <td>0.5</td>\n",
       "      <td>0.0</td>\n",
       "      <td>0.01</td>\n",
       "      <td>0.67</td>\n",
       "      <td>0.22</td>\n",
       "    </tr>\n",
       "    <tr>\n",
       "      <th>2</th>\n",
       "      <td>0.0</td>\n",
       "      <td>0.00</td>\n",
       "      <td>0.13</td>\n",
       "      <td>0.87</td>\n",
       "      <td>0.0</td>\n",
       "      <td>0.27</td>\n",
       "      <td>0.03</td>\n",
       "      <td>0.04</td>\n",
       "      <td>0.03</td>\n",
       "      <td>0.08</td>\n",
       "      <td>...</td>\n",
       "      <td>0.0</td>\n",
       "      <td>0.5</td>\n",
       "      <td>0.16</td>\n",
       "      <td>0.43</td>\n",
       "      <td>0.66</td>\n",
       "      <td>0.5</td>\n",
       "      <td>0.0</td>\n",
       "      <td>0.02</td>\n",
       "      <td>0.83</td>\n",
       "      <td>0.15</td>\n",
       "    </tr>\n",
       "    <tr>\n",
       "      <th>3</th>\n",
       "      <td>0.0</td>\n",
       "      <td>1.00</td>\n",
       "      <td>0.13</td>\n",
       "      <td>0.87</td>\n",
       "      <td>0.0</td>\n",
       "      <td>0.10</td>\n",
       "      <td>0.03</td>\n",
       "      <td>0.04</td>\n",
       "      <td>0.03</td>\n",
       "      <td>0.08</td>\n",
       "      <td>...</td>\n",
       "      <td>0.0</td>\n",
       "      <td>0.5</td>\n",
       "      <td>0.16</td>\n",
       "      <td>0.18</td>\n",
       "      <td>0.67</td>\n",
       "      <td>0.5</td>\n",
       "      <td>0.0</td>\n",
       "      <td>0.00</td>\n",
       "      <td>0.17</td>\n",
       "      <td>0.22</td>\n",
       "    </tr>\n",
       "    <tr>\n",
       "      <th>4</th>\n",
       "      <td>0.0</td>\n",
       "      <td>0.71</td>\n",
       "      <td>0.13</td>\n",
       "      <td>0.87</td>\n",
       "      <td>0.0</td>\n",
       "      <td>0.27</td>\n",
       "      <td>0.03</td>\n",
       "      <td>0.04</td>\n",
       "      <td>0.03</td>\n",
       "      <td>0.08</td>\n",
       "      <td>...</td>\n",
       "      <td>0.0</td>\n",
       "      <td>0.5</td>\n",
       "      <td>0.16</td>\n",
       "      <td>0.27</td>\n",
       "      <td>0.67</td>\n",
       "      <td>0.5</td>\n",
       "      <td>0.0</td>\n",
       "      <td>0.01</td>\n",
       "      <td>1.00</td>\n",
       "      <td>0.22</td>\n",
       "    </tr>\n",
       "  </tbody>\n",
       "</table>\n",
       "<p>5 rows × 24 columns</p>\n",
       "</div>"
      ],
      "text/plain": [
       "   Unnamed: 0  Month   Age  Occupation  Annual_Income  Monthly_Inhand_Salary  \\\n",
       "0         0.0   0.29  0.13        0.87            0.0                   0.27   \n",
       "1         0.0   0.86  0.43        0.87            0.0                   0.27   \n",
       "2         0.0   0.00  0.13        0.87            0.0                   0.27   \n",
       "3         0.0   1.00  0.13        0.87            0.0                   0.10   \n",
       "4         0.0   0.71  0.13        0.87            0.0                   0.27   \n",
       "\n",
       "   Num_Bank_Accounts  Num_Credit_Card  Interest_Rate  Num_of_Loan  ...  \\\n",
       "0               0.03             0.04           0.03         0.08  ...   \n",
       "1               0.03             0.04           0.03         0.08  ...   \n",
       "2               0.03             0.04           0.03         0.08  ...   \n",
       "3               0.03             0.04           0.03         0.08  ...   \n",
       "4               0.03             0.04           0.03         0.08  ...   \n",
       "\n",
       "   Num_Credit_Inquiries  Credit_Mix  Outstanding_Debt  \\\n",
       "0                   0.0         0.5              0.16   \n",
       "1                   0.0         0.5              0.16   \n",
       "2                   0.0         0.5              0.16   \n",
       "3                   0.0         0.5              0.16   \n",
       "4                   0.0         0.5              0.16   \n",
       "\n",
       "   Credit_Utilization_Ratio  Credit_History_Age  Payment_of_Min_Amount  \\\n",
       "0                      0.45                0.00                    0.5   \n",
       "1                      0.32                0.66                    0.5   \n",
       "2                      0.43                0.66                    0.5   \n",
       "3                      0.18                0.67                    0.5   \n",
       "4                      0.27                0.67                    0.5   \n",
       "\n",
       "   Total_EMI_per_month  Amount_invested_monthly  Payment_Behaviour  \\\n",
       "0                  0.0                     0.01               0.50   \n",
       "1                  0.0                     0.01               0.67   \n",
       "2                  0.0                     0.02               0.83   \n",
       "3                  0.0                     0.00               0.17   \n",
       "4                  0.0                     0.01               1.00   \n",
       "\n",
       "   Monthly_Balance  \n",
       "0             0.19  \n",
       "1             0.22  \n",
       "2             0.15  \n",
       "3             0.22  \n",
       "4             0.22  \n",
       "\n",
       "[5 rows x 24 columns]"
      ]
     },
     "execution_count": 19,
     "metadata": {},
     "output_type": "execute_result"
    }
   ],
   "source": [
    "data_set_feat = np.round(data_set_feat, decimals=2) #rounding all values to 2 decimals\n",
    "data_set_feat.head() #dataset_after_normalization"
   ]
  },
  {
   "cell_type": "code",
   "execution_count": 21,
   "id": "4ef77399",
   "metadata": {},
   "outputs": [],
   "source": [
    "one_train, one_test, two_train, two_test = train_test_split(data_co,data_co['Credit_Score'],test_size=0.30)\n",
    "# test_train split with test size =30% and train size =70%"
   ]
  },
  {
   "cell_type": "code",
   "execution_count": 22,
   "id": "c42926f7",
   "metadata": {},
   "outputs": [],
   "source": [
    "# Computation of accuracy rates for various neighbour values\n",
    "Accurate_rates = []\n",
    "for i in range(1,40):\n",
    "    k_nearest_neighbour = KNeighborsClassifier(n_neighbors=i)\n",
    "    final_score=cross_val_score(k_nearest_neighbour, data_set_feat,data_co['Credit_Score'],cv=10)\n",
    "    Accurate_rates.append(final_score.mean())"
   ]
  },
  {
   "cell_type": "code",
   "execution_count": 24,
   "id": "9783d104",
   "metadata": {},
   "outputs": [
    {
     "data": {
      "text/plain": [
       "Text(0, 0.5, 'Accuracy Rate')"
      ]
     },
     "execution_count": 24,
     "metadata": {},
     "output_type": "execute_result"
    },
    {
     "data": {
      "image/png": "[encoded data removed]",
      "text/plain": [
       "<Figure size 720x432 with 1 Axes>"
      ]
     },
     "metadata": {
      "needs_background": "light"
     },
     "output_type": "display_data"
    }
   ],
   "source": [
    "plt.figure(figsize=(10,6))\n",
    "plt.plot(range(1,40),Accurate_rates, color='blue', linestyle='dashed', marker='o',markerfacecolor='red', markersize=10)\n",
    "plt.title('Accuracy Rate vs. K Value')\n",
    "plt.xlabel('K')\n",
    "plt.ylabel( 'Accuracy Rate')"
   ]
  },
  {
   "cell_type": "code",
   "execution_count": 25,
   "id": "b32ec747",
   "metadata": {},
   "outputs": [
    {
     "data": {
      "text/plain": [
       "0.6325999999999999"
      ]
     },
     "execution_count": 25,
     "metadata": {},
     "output_type": "execute_result"
    }
   ],
   "source": [
    "max(Accurate_rates)"
   ]
  }
 ],
 "metadata": {
  "kernelspec": {
   "display_name": "Python 3 (ipykernel)",
   "language": "python",
   "name": "python3"
  },
  "language_info": {
   "codemirror_mode": {
    "name": "ipython",
    "version": 3
   },
   "file_extension": ".py",
   "mimetype": "text/x-python",
   "name": "python",
   "nbconvert_exporter": "python",
   "pygments_lexer": "ipython3",
   "version": "3.9.7"
  }
 },
 "nbformat": 4,
 "nbformat_minor": 5
}
